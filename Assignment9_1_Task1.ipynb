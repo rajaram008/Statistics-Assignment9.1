{
  "nbformat": 4,
  "nbformat_minor": 0,
  "metadata": {
    "colab": {
      "name": "Assignment9.1_Task1.ipynb",
      "version": "0.3.2",
      "views": {},
      "default_view": {},
      "provenance": []
    },
    "kernelspec": {
      "name": "python3",
      "display_name": "Python 3"
    }
  },
  "cells": [
    {
      "metadata": {
        "id": "mrmqcuIJdi-e",
        "colab_type": "text"
      },
      "cell_type": "markdown",
      "source": [
        "Q1: You survey households in your area to find the average rent they are paying. Find the standard deviation from the following data: $1550, $1700, $900, $850, $1000, $950.\n",
        "\n",
        "Q2: Find the variance for the following set of data representing trees in California (heights in feet): 3, 21, 98, 203, 17, 9\n",
        "\n",
        "Q3: In a class on 100 students, 80 students passed in all subjects, 10 failed in one subject, 7 failed in two subjects and 3 failed in three subjects. Find the probability distribution of the variable for number of subjects a student from the given class has failed in."
      ]
    },
    {
      "metadata": {
        "id": "styC-q9BdoXz",
        "colab_type": "code",
        "colab": {
          "autoexec": {
            "startup": false,
            "wait_interval": 0
          }
        }
      },
      "cell_type": "code",
      "source": [
        "import numpy as np"
      ],
      "execution_count": 0,
      "outputs": []
    },
    {
      "metadata": {
        "id": "PgOzYKxmdw8e",
        "colab_type": "text"
      },
      "cell_type": "markdown",
      "source": [
        "Q1: You survey households in your area to find the average rent they are paying. Find the standard deviation from the following data: $1550, $1700, $900, $850, $1000, $950."
      ]
    },
    {
      "metadata": {
        "id": "v4sys1Kjd3xY",
        "colab_type": "code",
        "colab": {
          "autoexec": {
            "startup": false,
            "wait_interval": 0
          },
          "base_uri": "https://localhost:8080/",
          "height": 51
        },
        "outputId": "c6c35d28-3719-43bb-f491-eb3a3acf5811",
        "executionInfo": {
          "status": "ok",
          "timestamp": 1533144688848,
          "user_tz": -330,
          "elapsed": 561,
          "user": {
            "displayName": "Rajaram Tripathy",
            "photoUrl": "//lh6.googleusercontent.com/-i36HQO2rFzQ/AAAAAAAAAAI/AAAAAAAAAmk/wo74Cfd039M/s50-c-k-no/photo.jpg",
            "userId": "114877031278411201428"
          }
        }
      },
      "cell_type": "code",
      "source": [
        "x = [1550,1550,1700, 900,900,850, 1000,1000,950]\n",
        "Avg_rent_paid = np.mean(x)\n",
        "std_dev = np.std(x)\n",
        "\n",
        "print('Average rent paid by the householdsfor the sample information collected :  {:0.2f}'.format(Avg_rent_paid))\n",
        "print('The limits of data pertaining to rent paid by the houesholds is +/- : {:0.2f}'.format(std_dev))"
      ],
      "execution_count": 9,
      "outputs": [
        {
          "output_type": "stream",
          "text": [
            "Average rent paid by the householdsfor the sample information collected :  1155.56\n",
            "The limits of data pertaining to rent paid by the houesholds is +/- : 320.11\n"
          ],
          "name": "stdout"
        }
      ]
    },
    {
      "metadata": {
        "id": "Hz8Cjo3IfUaH",
        "colab_type": "text"
      },
      "cell_type": "markdown",
      "source": [
        "Q2:Find the variance for the following set of data representing trees in California (heights in feet): 3, 21, 98, 203, 17, 9"
      ]
    },
    {
      "metadata": {
        "id": "Vut2S6Z5fXxS",
        "colab_type": "code",
        "colab": {
          "autoexec": {
            "startup": false,
            "wait_interval": 0
          },
          "base_uri": "https://localhost:8080/",
          "height": 34
        },
        "outputId": "0fd77d47-29f1-4df7-b02c-eaa32fedbcf7",
        "executionInfo": {
          "status": "ok",
          "timestamp": 1533144701079,
          "user_tz": -330,
          "elapsed": 706,
          "user": {
            "displayName": "Rajaram Tripathy",
            "photoUrl": "//lh6.googleusercontent.com/-i36HQO2rFzQ/AAAAAAAAAAI/AAAAAAAAAmk/wo74Cfd039M/s50-c-k-no/photo.jpg",
            "userId": "114877031278411201428"
          }
        }
      },
      "cell_type": "code",
      "source": [
        "#x : height of trees in feet\n",
        "x = [3, 21, 98, 203, 17, 9]\n",
        "variance = np.var(x)\n",
        "\n",
        "print(\"The spread of data pertaining to the height of trees is : {:0.2f}\".format(variance))"
      ],
      "execution_count": 10,
      "outputs": [
        {
          "output_type": "stream",
          "text": [
            "The spread of data pertaining to the height of trees is : 5183.25\n"
          ],
          "name": "stdout"
        }
      ]
    },
    {
      "metadata": {
        "id": "-6gPW3Lyflkl",
        "colab_type": "text"
      },
      "cell_type": "markdown",
      "source": [
        "Q3:In a class on 100 students, 80 students passed in all subjects, 10 failed in one subject, 7 failed in two subjects and 3 failed in three subjects. Find the probability distribution of the variable for number of subjects a student from the given class has failed in."
      ]
    },
    {
      "metadata": {
        "id": "gH-ukU2mfnxy",
        "colab_type": "code",
        "colab": {
          "autoexec": {
            "startup": false,
            "wait_interval": 0
          },
          "base_uri": "https://localhost:8080/",
          "height": 85
        },
        "outputId": "0f7a1a9d-f535-4641-87a9-249609b1e855",
        "executionInfo": {
          "status": "ok",
          "timestamp": 1533144708257,
          "user_tz": -330,
          "elapsed": 721,
          "user": {
            "displayName": "Rajaram Tripathy",
            "photoUrl": "//lh6.googleusercontent.com/-i36HQO2rFzQ/AAAAAAAAAAI/AAAAAAAAAmk/wo74Cfd039M/s50-c-k-no/photo.jpg",
            "userId": "114877031278411201428"
          }
        }
      },
      "cell_type": "code",
      "source": [
        "import matplotlib.pyplot as plt\n",
        "%matplotlib inline\n",
        "n_students = 100\n",
        "passed_all = 80\n",
        "failed_one = 10\n",
        "failed_two = 7\n",
        "failed_three = 3\n",
        "\n",
        "num_students_not_passed_all = n_students - passed_all\n",
        "prob_failed_none = passed_all / n_students\n",
        "prob_failed_in_one = failed_one/n_students\n",
        "prob_failed_in_two = failed_two/n_students\n",
        "prob_failed_in_three = failed_three/n_students\n",
        "\n",
        "print(\"Probability failed in no subjects: \",prob_failed_none)\n",
        "print(\"Probability failed in 1 subject: \",prob_failed_in_one)\n",
        "print(\"Probability failed in 2 subjects: \",prob_failed_in_two)\n",
        "print(\"Probability failed in 3 subjects: \",prob_failed_in_three)"
      ],
      "execution_count": 11,
      "outputs": [
        {
          "output_type": "stream",
          "text": [
            "Probability failed in no subjects:  0.8\n",
            "Probability failed in 1 subject:  0.1\n",
            "Probability failed in 2 subjects:  0.07\n",
            "Probability failed in 3 subjects:  0.03\n"
          ],
          "name": "stdout"
        }
      ]
    },
    {
      "metadata": {
        "id": "zvecFRwodkkH",
        "colab_type": "code",
        "colab": {
          "autoexec": {
            "startup": false,
            "wait_interval": 0
          }
        }
      },
      "cell_type": "code",
      "source": [
        ""
      ],
      "execution_count": 0,
      "outputs": []
    }
  ]
}