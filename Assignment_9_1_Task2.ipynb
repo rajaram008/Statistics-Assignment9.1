{
  "nbformat": 4,
  "nbformat_minor": 0,
  "metadata": {
    "colab": {
      "name": "Assignment_9.1-Task2.ipynb",
      "version": "0.3.2",
      "views": {},
      "default_view": {},
      "provenance": []
    },
    "kernelspec": {
      "name": "python3",
      "display_name": "Python 3"
    }
  },
  "cells": [
    {
      "metadata": {
        "id": "LAI8FpCulC-V",
        "colab_type": "text"
      },
      "cell_type": "markdown",
      "source": [
        "Task-2:\n",
        "\n",
        "Q1:\n",
        "\n",
        "A test is conducted which is consisting of 20 MCQs (multiple choices questions) with every MCQ having its four options out of which only one is correct. Determine the probability that a person undertaking that test has answered exactly 5 questions wrong."
      ]
    },
    {
      "metadata": {
        "id": "9k20CaGilH6V",
        "colab_type": "code",
        "colab": {
          "autoexec": {
            "startup": false,
            "wait_interval": 0
          }
        }
      },
      "cell_type": "code",
      "source": [
        "import numpy as np\n",
        "import matplotlib.pyplot as plt\n",
        "from scipy.stats import binom\n",
        "from scipy.special import factorial"
      ],
      "execution_count": 0,
      "outputs": []
    },
    {
      "metadata": {
        "id": "nHbUEqV_lWvw",
        "colab_type": "code",
        "colab": {
          "autoexec": {
            "startup": false,
            "wait_interval": 0
          },
          "base_uri": "https://localhost:8080/",
          "height": 34
        },
        "outputId": "2da0ef9d-692c-4d53-d3de-08fdc562891b",
        "executionInfo": {
          "status": "ok",
          "timestamp": 1533145349440,
          "user_tz": -330,
          "elapsed": 774,
          "user": {
            "displayName": "Rajaram Tripathy",
            "photoUrl": "//lh6.googleusercontent.com/-i36HQO2rFzQ/AAAAAAAAAAI/AAAAAAAAAmk/wo74Cfd039M/s50-c-k-no/photo.jpg",
            "userId": "114877031278411201428"
          }
        }
      },
      "cell_type": "code",
      "source": [
        "#Let us assume that in an experiment done, ‘n’ is representing the number of trials attempted, \n",
        "#and that ‘k’ is the count of successes that is to be attained in those ‘n’ trials. \n",
        "#This implies that number of failures clearly will be ‘n - k’.\n",
        "\n",
        "n = 20\n",
        "#n - k  = 5\n",
        "failures = 5\n",
        "k = 15 \n",
        "#the probability of success = probability of giving a right answer = p_s\n",
        "p_s = failures / n\n",
        "    \n",
        "#the probability of failure = probability of giving a wrong answer p_f = 1 - p_s \n",
        "p_f = 1 - p_s\n",
        "\n",
        "#we substitute these values in the formula for Binomial distribution we get,\n",
        "#So, P (exactly 5 out of 20 answers incorrect) = C (20, 5) * (1/4)**15 * (3/4)** 5\n",
        "\n",
        "P = (factorial(n) /(factorial(k) * factorial(n - k))) * np.power(p_s,k) * np.power(p_f,failures)\n",
        "\n",
        "print(\"Probability of exactly 5 out of 20 answers incorrect is {:0.7f}\".format(P))"
      ],
      "execution_count": 2,
      "outputs": [
        {
          "output_type": "stream",
          "text": [
            "Probability of exactly 5 out of 20 answers incorrect is 0.0000034\n"
          ],
          "name": "stdout"
        }
      ]
    },
    {
      "metadata": {
        "id": "Bc1-v4BWlecy",
        "colab_type": "text"
      },
      "cell_type": "markdown",
      "source": [
        "Q2: A die marked A to E is rolled 50 times. Find the probability of getting a “D” exactly 5 times."
      ]
    },
    {
      "metadata": {
        "id": "oE8Zynitlg1k",
        "colab_type": "code",
        "colab": {
          "autoexec": {
            "startup": false,
            "wait_interval": 0
          },
          "base_uri": "https://localhost:8080/",
          "height": 34
        },
        "outputId": "baea2393-f5b5-435d-bea9-d858fa77f92c",
        "executionInfo": {
          "status": "ok",
          "timestamp": 1533145409707,
          "user_tz": -330,
          "elapsed": 993,
          "user": {
            "displayName": "Rajaram Tripathy",
            "photoUrl": "//lh6.googleusercontent.com/-i36HQO2rFzQ/AAAAAAAAAAI/AAAAAAAAAmk/wo74Cfd039M/s50-c-k-no/photo.jpg",
            "userId": "114877031278411201428"
          }
        }
      },
      "cell_type": "code",
      "source": [
        "#Let us assume that in an experiment done, ‘n’ is representing the number of trials attempted, \n",
        "#and that ‘k’ is the count of successes that is to be attained in those ‘n’ trials. \n",
        "#This implies that number of failures clearly will be ‘n - k’.\n",
        " \n",
        "#Assuming, ‘s’ to be the probability of succeeding in a trial, we get that the probability of failure is ‘1 - s’.\n",
        "\n",
        "n = 50\n",
        "k =5\n",
        "failures = n - k\n",
        "#The probability of success = probability of getting a “D”\n",
        "p_s = 1/k\n",
        "\n",
        "#Hence, the probability of failure = probability of not getting a “D” = \n",
        "p_f = 1 - p_s \n",
        "\n",
        "\n",
        "print(\"Probability of getting excatly D in {} throws out of  {} number of trails conducted is {}\".format(k,n,p_s))"
      ],
      "execution_count": 3,
      "outputs": [
        {
          "output_type": "stream",
          "text": [
            "Probability of getting excatly D in 5 throws out of  50 number of trails conducted is 0.2\n"
          ],
          "name": "stdout"
        }
      ]
    },
    {
      "metadata": {
        "id": "2YJJl2fDlqMr",
        "colab_type": "text"
      },
      "cell_type": "markdown",
      "source": [
        "Q3: Two balls are drawn at random in succession without replacement from an urn containing 4 red balls and 6 black balls. Find the probabilities of all the possible outcomes."
      ]
    },
    {
      "metadata": {
        "id": "vwkmGYfQlrw8",
        "colab_type": "code",
        "colab": {
          "autoexec": {
            "startup": false,
            "wait_interval": 0
          }
        }
      },
      "cell_type": "code",
      "source": [
        "red_ball = 4\n",
        "black_ball = 6\n",
        "total_balls = red_ball + black_ball\n",
        "\n",
        "#Sample of possible outcomes  = {R_ballB_ball,B_ballR_ball,B_ballB_bal,R_ballR_ball}\n",
        "\n",
        "#So the chances of picking a red ball  first is  4 out of 10 balls. So the probability is 4/10.\n",
        "p_first_red_ball = red_ball / total_balls\n",
        "\n",
        "#So the chances of picking a black ball second is 6 out of 9 balls. So the probability is 6/9.\n",
        "p_second_black_ball  = black_ball / (total_balls - 1)\n",
        "\n",
        "\n",
        "#So the chances of picking a black ball  first is  6 out of 10 balls. So the probability is 6/10.\n",
        "p_first_black_ball = black_ball / total_balls\n",
        "\n",
        "#So the chances of picking a red ball second is 4 out of 9 balls. So the probability is 4/9.\n",
        "p_second_red_ball  = red_ball / (total_balls - 1)\n",
        "#Probability that both the balls are red is computed here as:\n",
        "#= Total number of ways to select 2 red balls from the 4 red balls / \n",
        "#    Total number of ways to select 2 black  balls from 10 total balls\n",
        "\n",
        "P_2_r  = (factorial(red_ball) / (factorial(2) * factorial(red_ball - 2))) / (factorial(total_balls) / factorial(2)* factorial(total_balls - 2))\n",
        "\n",
        "#Probability that both the balls are black is computed here as:\n",
        "#= Total number of ways to select 2 black balls from the 6 red balls / \n",
        "#    Total number of ways to select 2 black  balls from 10 total balls\n",
        "\n",
        "P_2_b  = (factorial(black_ball) / (factorial(2) * factorial(black_ball -2))) / (factorial(total_balls) / factorial(2)* factorial(total_balls - 2))"
      ],
      "execution_count": 0,
      "outputs": []
    },
    {
      "metadata": {
        "id": "6GmBp4ivl5RP",
        "colab_type": "code",
        "colab": {
          "autoexec": {
            "startup": false,
            "wait_interval": 0
          },
          "base_uri": "https://localhost:8080/",
          "height": 34
        },
        "outputId": "7a900e12-a8e9-44d3-d896-f6634e3b066a",
        "executionInfo": {
          "status": "ok",
          "timestamp": 1533145489573,
          "user_tz": -330,
          "elapsed": 881,
          "user": {
            "displayName": "Rajaram Tripathy",
            "photoUrl": "//lh6.googleusercontent.com/-i36HQO2rFzQ/AAAAAAAAAAI/AAAAAAAAAmk/wo74Cfd039M/s50-c-k-no/photo.jpg",
            "userId": "114877031278411201428"
          }
        }
      },
      "cell_type": "code",
      "source": [
        "print(\"The probabilities of all possible outcomes of picking Red ball first,Black Ball second is ({:0.2f},{:0.2f})\".format(p_first_red_ball,p_second_black_ball))"
      ],
      "execution_count": 5,
      "outputs": [
        {
          "output_type": "stream",
          "text": [
            "The probabilities of all possible outcomes of picking Red ball first,Black Ball second is (0.40,0.67)\n"
          ],
          "name": "stdout"
        }
      ]
    },
    {
      "metadata": {
        "id": "5x82akGGl9Cj",
        "colab_type": "code",
        "colab": {
          "autoexec": {
            "startup": false,
            "wait_interval": 0
          },
          "base_uri": "https://localhost:8080/",
          "height": 34
        },
        "outputId": "96628453-f074-40da-e68f-578123fe55f8",
        "executionInfo": {
          "status": "ok",
          "timestamp": 1533145505046,
          "user_tz": -330,
          "elapsed": 900,
          "user": {
            "displayName": "Rajaram Tripathy",
            "photoUrl": "//lh6.googleusercontent.com/-i36HQO2rFzQ/AAAAAAAAAAI/AAAAAAAAAmk/wo74Cfd039M/s50-c-k-no/photo.jpg",
            "userId": "114877031278411201428"
          }
        }
      },
      "cell_type": "code",
      "source": [
        "print(\"The probabilities of all possible outcomes of picking black ball first,red Ball second is ({:0.2f},{:0.2f})\".format(p_first_black_ball,p_second_red_ball))"
      ],
      "execution_count": 6,
      "outputs": [
        {
          "output_type": "stream",
          "text": [
            "The probabilities of all possible outcomes of picking black ball first,red Ball second is (0.60,0.44)\n"
          ],
          "name": "stdout"
        }
      ]
    },
    {
      "metadata": {
        "id": "cOarguHPmBYv",
        "colab_type": "code",
        "colab": {
          "autoexec": {
            "startup": false,
            "wait_interval": 0
          },
          "base_uri": "https://localhost:8080/",
          "height": 34
        },
        "outputId": "b32148fb-0571-43b5-846e-43bec9060536",
        "executionInfo": {
          "status": "ok",
          "timestamp": 1533145522796,
          "user_tz": -330,
          "elapsed": 733,
          "user": {
            "displayName": "Rajaram Tripathy",
            "photoUrl": "//lh6.googleusercontent.com/-i36HQO2rFzQ/AAAAAAAAAAI/AAAAAAAAAmk/wo74Cfd039M/s50-c-k-no/photo.jpg",
            "userId": "114877031278411201428"
          }
        }
      },
      "cell_type": "code",
      "source": [
        "print(\"The probabilities of all possible outcomes of picking both the balls as black is {:0.10f}\".format(P_2_b))"
      ],
      "execution_count": 7,
      "outputs": [
        {
          "output_type": "stream",
          "text": [
            "The probabilities of all possible outcomes of picking both the balls as black is 0.0000000002\n"
          ],
          "name": "stdout"
        }
      ]
    },
    {
      "metadata": {
        "id": "07h18TvbmG0v",
        "colab_type": "code",
        "colab": {
          "autoexec": {
            "startup": false,
            "wait_interval": 0
          },
          "base_uri": "https://localhost:8080/",
          "height": 34
        },
        "outputId": "ae61ad99-4660-4d3b-9b67-ab0491bd7c75",
        "executionInfo": {
          "status": "ok",
          "timestamp": 1533145549806,
          "user_tz": -330,
          "elapsed": 762,
          "user": {
            "displayName": "Rajaram Tripathy",
            "photoUrl": "//lh6.googleusercontent.com/-i36HQO2rFzQ/AAAAAAAAAAI/AAAAAAAAAmk/wo74Cfd039M/s50-c-k-no/photo.jpg",
            "userId": "114877031278411201428"
          }
        }
      },
      "cell_type": "code",
      "source": [
        "print(\"The probabilities of all possible outcomes of picking both the balls as red is {:0.10f}\".format(P_2_r))"
      ],
      "execution_count": 8,
      "outputs": [
        {
          "output_type": "stream",
          "text": [
            "The probabilities of all possible outcomes of picking both the balls as red is 0.0000000001\n"
          ],
          "name": "stdout"
        }
      ]
    },
    {
      "metadata": {
        "id": "m4whYoSXmGz_",
        "colab_type": "code",
        "colab": {
          "autoexec": {
            "startup": false,
            "wait_interval": 0
          }
        }
      },
      "cell_type": "code",
      "source": [
        ""
      ],
      "execution_count": 0,
      "outputs": []
    },
    {
      "metadata": {
        "id": "riU09e8bl5Qi",
        "colab_type": "code",
        "colab": {
          "autoexec": {
            "startup": false,
            "wait_interval": 0
          }
        }
      },
      "cell_type": "code",
      "source": [
        ""
      ],
      "execution_count": 0,
      "outputs": []
    }
  ]
}